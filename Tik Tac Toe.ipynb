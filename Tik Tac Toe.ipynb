{
 "cells": [
  {
   "cell_type": "markdown",
   "metadata": {},
   "source": [
    "# Lets Devide our code in 4 parts. At first we will code for Board. Second for Player. Third for Win Check and Replay. Finally fourth one will be the Main Code for Game"
   ]
  },
  {
   "cell_type": "markdown",
   "metadata": {},
   "source": [
    "# Part 1"
   ]
  },
  {
   "cell_type": "markdown",
   "metadata": {},
   "source": [
    "\n",
    "\n",
    "\n",
    "Lets Start coding for board\n",
    "\n",
    "1. Lets crteate out board first\n",
    "\n",
    "2. Check for position index\n",
    "\n",
    "3. Check whether space is present on board\n",
    "\n",
    "4. Finally check board is completely full or not"
   ]
  },
  {
   "cell_type": "code",
   "execution_count": 1,
   "metadata": {},
   "outputs": [],
   "source": [
    "# Create Board\n",
    "\n",
    "from IPython.display import clear_output\n",
    "\n",
    "def display_board(board):\n",
    "    \n",
    "    clear_output()\n",
    "    \n",
    "    print('    |    |' )\n",
    "    print(' ' + board[7], ' | '+ board[8], ' | ' + board[9])\n",
    "    print('    |    |')\n",
    "    print('-------------')\n",
    "    print('    |    |')\n",
    "    print(' ' + board[4], ' | '+ board[5], ' | ' + board[6])\n",
    "    print('    |    |')\n",
    "    print('--------------')\n",
    "    print('    |    |')\n",
    "    print(' ' + board[1], ' | '+ board[2], ' | ' + board[3])\n",
    "    print('    |    |')"
   ]
  },
  {
   "cell_type": "code",
   "execution_count": 2,
   "metadata": {},
   "outputs": [],
   "source": [
    "# Choose Position Index\n",
    "\n",
    "def position_marker(board, marker, position):\n",
    "    board[position] = marker"
   ]
  },
  {
   "cell_type": "code",
   "execution_count": 3,
   "metadata": {},
   "outputs": [],
   "source": [
    "#Space Check\n",
    "\n",
    "def space_check(board, position):\n",
    "    \n",
    "    return board[position] == ' '"
   ]
  },
  {
   "cell_type": "code",
   "execution_count": 4,
   "metadata": {},
   "outputs": [],
   "source": [
    "#Full board Check\n",
    "\n",
    "def full_board_check(board):\n",
    "    \n",
    "    for i in range(1,10):\n",
    "        if space_check(board, i):\n",
    "            return False\n",
    "    return True"
   ]
  },
  {
   "cell_type": "markdown",
   "metadata": {},
   "source": [
    "\n",
    "\n",
    "# Part 2"
   ]
  },
  {
   "cell_type": "markdown",
   "metadata": {},
   "source": [
    "Lets Staer coding for player\n",
    "\n",
    "1. Toss between player1 & player2\n",
    "\n",
    "2. Player input between X and O\n",
    "\n",
    "3. Choose the position index to enter the value"
   ]
  },
  {
   "cell_type": "code",
   "execution_count": 5,
   "metadata": {},
   "outputs": [],
   "source": [
    "# Toss between player1 & player2\n",
    "\n",
    "import random\n",
    "\n",
    "def choose_player():\n",
    "    \n",
    "    if random.randint(0,1)==0:\n",
    "        return 'player1'\n",
    "    else:\n",
    "        return 'player2'"
   ]
  },
  {
   "cell_type": "code",
   "execution_count": 6,
   "metadata": {},
   "outputs": [],
   "source": [
    "# Player input between X and O\n",
    "\n",
    "def player_input():\n",
    "    \n",
    "    marker = ' '\n",
    "    \n",
    "    while not (marker=='X' or marker=='O'):\n",
    "        \n",
    "        marker = input('Choose the input between X and O :  ').upper()\n",
    "        \n",
    "    if marker == 'X':\n",
    "        return ('X','O')\n",
    "    else:\n",
    "        return ('O','X')"
   ]
  },
  {
   "cell_type": "code",
   "execution_count": 7,
   "metadata": {},
   "outputs": [],
   "source": [
    "#Choose the position index to enter the value\n",
    "\n",
    "def player_choice(board):\n",
    "    position = 0\n",
    "    \n",
    "    while position not in [1,2,3,4,5,6,7,8,9] or not space_check(board, position):\n",
    "        position = int(input('Choose your next position: (1-9) '))\n",
    "    return position"
   ]
  },
  {
   "cell_type": "markdown",
   "metadata": {},
   "source": [
    "\n",
    "\n",
    "# Part 3"
   ]
  },
  {
   "cell_type": "markdown",
   "metadata": {},
   "source": [
    "\n",
    "Lets Write code for win_check and Replay\n",
    "\n",
    "1. Win Check\n",
    "2. Replay or not"
   ]
  },
  {
   "cell_type": "code",
   "execution_count": 8,
   "metadata": {},
   "outputs": [],
   "source": [
    "# Win Check\n",
    "\n",
    "def win_check(board, mark):\n",
    "    \n",
    "    return ((board[1]==mark and board[2]== mark and board[3]== mark)or\n",
    "    (board[4] == mark and board[5] == mark and board[6] == mark)or\n",
    "    (board[7] == mark and board[8] == mark and board[9] == mark)or\n",
    "    (board[1] == mark and board[4] == mark and board[7] == mark)or\n",
    "    (board[2] == mark and board[5] == mark and board[8] == mark)or\n",
    "    (board[3] == mark and board[6] == mark and board[9] == mark)or\n",
    "    (board[1] == mark and board[5] == mark and board[9] == mark)or\n",
    "    (board[3] == mark and board[5] == mark and board[7] == mark))"
   ]
  },
  {
   "cell_type": "code",
   "execution_count": 9,
   "metadata": {},
   "outputs": [],
   "source": [
    "# Replay\n",
    "\n",
    "def replay():\n",
    "    return input('Do you want to replay? Yes or No ').lower().startswith('y')"
   ]
  },
  {
   "cell_type": "markdown",
   "metadata": {},
   "source": [
    "# Part 4"
   ]
  },
  {
   "cell_type": "markdown",
   "metadata": {},
   "source": [
    "Main Code to play the game"
   ]
  },
  {
   "cell_type": "code",
   "execution_count": 11,
   "metadata": {},
   "outputs": [
    {
     "name": "stdout",
     "output_type": "stream",
     "text": [
      "    |    |\n",
      " O  | X  | X\n",
      "    |    |\n",
      "-------------\n",
      "    |    |\n",
      " X  | O  | O\n",
      "    |    |\n",
      "--------------\n",
      "    |    |\n",
      " O  | X  | X\n",
      "    |    |\n",
      "Tie Game\n",
      "Do you want to replay? Yes or No n\n"
     ]
    }
   ],
   "source": [
    "\n",
    "#main Code\n",
    "\n",
    "print('Welcome to Tic Tac Toe!')\n",
    "\n",
    "while True:\n",
    "    \n",
    "    #Reset Board ready\n",
    "    \n",
    "    theboard = [' ']*10\n",
    "    player1_mark, player2_mark = player_input()\n",
    "    turn = choose_player()\n",
    "    print(turn + ' will go first')\n",
    "    \n",
    "    play_game = input('Are you ready to play? Yes or No: ')\n",
    "    \n",
    "    \n",
    "    \n",
    "    if play_game.lower()[0] == 'y':\n",
    "        game_on=True\n",
    "    else:\n",
    "        game_on=False\n",
    "        \n",
    "    \n",
    "    \n",
    "    \n",
    "    \n",
    "    \n",
    "    while game_on:  #for player1\n",
    "        \n",
    "        if turn == 'player1':\n",
    "            \n",
    "            display_board(theboard)\n",
    "            position = player_choice(theboard)\n",
    "            position_marker(theboard, player1_mark, position)\n",
    "            \n",
    "            \n",
    "            \n",
    "            if win_check(theboard, player1_mark):\n",
    "                display_board(theboard)\n",
    "                print('Congratulations! player1 won the game')\n",
    "                game_on=False\n",
    "                \n",
    "            else:\n",
    "                if full_board_check(theboard):\n",
    "                    display_board(theboard)\n",
    "                    print('Tie Game')\n",
    "                    break\n",
    "                else:\n",
    "                    turn = 'player2'\n",
    "        \n",
    "        \n",
    "        \n",
    "        else:                      # for player 2\n",
    "            \n",
    "            \n",
    "            display_board(theboard)\n",
    "            position = player_choice(theboard)\n",
    "            position_marker(theboard, player2_mark, position)\n",
    "            \n",
    "            \n",
    "            \n",
    "            if win_check(theboard, player2_mark):\n",
    "                display_board(theboard)\n",
    "                print('Congratulations! player2 won the game')\n",
    "                game_on=False\n",
    "                \n",
    "            else:\n",
    "                if full_board_check(theboard):\n",
    "                    display_board(theboard)\n",
    "                    print('Tie Game')\n",
    "                    break\n",
    "                else:\n",
    "                    turn = 'player1'\n",
    "                \n",
    "    \n",
    "    \n",
    "    if not replay():\n",
    "        break\n",
    "    \n"
   ]
  }
 ],
 "metadata": {
  "kernelspec": {
   "display_name": "Python 3",
   "language": "python",
   "name": "python3"
  },
  "language_info": {
   "codemirror_mode": {
    "name": "ipython",
    "version": 3
   },
   "file_extension": ".py",
   "mimetype": "text/x-python",
   "name": "python",
   "nbconvert_exporter": "python",
   "pygments_lexer": "ipython3",
   "version": "3.7.6"
  }
 },
 "nbformat": 4,
 "nbformat_minor": 4
}
